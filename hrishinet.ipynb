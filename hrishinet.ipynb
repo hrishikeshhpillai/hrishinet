{
 "cells": [
  {
   "cell_type": "code",
   "execution_count": 43,
   "id": "31468596-5c88-463e-8eaf-808a52e21ecb",
   "metadata": {},
   "outputs": [],
   "source": [
    "class Value():\n",
    "    def __init__(self, data, _children = (), _op = \"\" ):\n",
    "        self.data = data\n",
    "        self.grad = 0\n",
    "        self._backward = lambda: None\n",
    "        self._prev = set(_children) # -> this is implemented like this for efficiency ? -> how ?\n",
    "        self.op = _op\n",
    "        \n",
    "    def __repr__(self):        \n",
    "        return f\"Value(data = {self.data})\"\n",
    "        \n",
    "    def __add__(self, other):\n",
    "        out = Value(self.data + other.data, (self, other), \"+\")\n",
    "        \n",
    "        def _backward(): # closure\n",
    "            self.grad += 1.0 * out.grad\n",
    "            other.grad += 1.0 * out.grad\n",
    "        self._backward = _backward\n",
    "        \n",
    "        return out\n",
    "\n",
    "    def __neg__(self):\n",
    "        return self*-1\n",
    "    \n",
    "    def __sub__(self, other):\n",
    "        return self.data + (-other.data)\n",
    "        \n",
    "    def __mul__(self, other):\n",
    "        other = other if isinstance(other, Value) else Value(other)\n",
    "        out = Value(self.data * other.data, (self, other), \"*\")\n",
    "\n",
    "        def _backward():\n",
    "            self.grad += other.data * out.grad\n",
    "            other.grad += self.data * out.grad\n",
    "        self._backward = _backward\n",
    "            \n",
    "        return out\n",
    "\n",
    "    def __rmul__(self, other):\n",
    "         return self * other \n",
    "\n",
    "\n",
    "    def __pow__(self, other):\n",
    "        \n",
    "        out = Value(self.data**other, (self,), '^')\n",
    "\n",
    "        def _backward():\n",
    "            self.grad += (other * self.data**(other-1)) * out.grad\n",
    "        out._backward = _backward\n",
    "\n",
    "        return out\n",
    "    \n",
    "    def tanh(self):\n",
    "        x = self.data\n",
    "        t = ((math.pow(2*x)-1)) / (math.pow(2*x)-1)\n",
    "\n",
    "        def _backward():\n",
    "            self.grad += (1- t**2) * out.grad\n",
    "        self._backward = _backward\n",
    "        out = Value(r.data, (self, ), \"tanh\")\n",
    "\n",
    "    def backward(self):\n",
    "        topo = []\n",
    "        visited = set()\n",
    "        def build_topo(v):\n",
    "            if v not in visited:\n",
    "                visited.add(v)\n",
    "            for child in v._prev:\n",
    "                build_topo(child)\n",
    "            topo.append(v)\n",
    "        build_topo(self)\n",
    "        self.grad = 1.0\n",
    "        for node in reversed(topo):\n",
    "            node._backward()\n"
   ]
  },
  {
   "cell_type": "code",
   "execution_count": 44,
   "id": "146ccbb2-c685-439c-91b7-763c02872e84",
   "metadata": {},
   "outputs": [
    {
     "ename": "TypeError",
     "evalue": "unsupported operand type(s) for -: 'Value' and 'Value'",
     "output_type": "error",
     "traceback": [
      "\u001b[0;31m---------------------------------------------------------------------------\u001b[0m",
      "\u001b[0;31mTypeError\u001b[0m                                 Traceback (most recent call last)",
      "Cell \u001b[0;32mIn[44], line 3\u001b[0m\n\u001b[1;32m      1\u001b[0m a \u001b[38;5;241m=\u001b[39m Value(\u001b[38;5;241m2.0\u001b[39m)\n\u001b[1;32m      2\u001b[0m b \u001b[38;5;241m=\u001b[39m Value(\u001b[38;5;241m3.0\u001b[39m)\n\u001b[0;32m----> 3\u001b[0m \u001b[43mb\u001b[49m\u001b[38;5;241;43m-\u001b[39;49m\u001b[43ma\u001b[49m\n",
      "\u001b[0;31mTypeError\u001b[0m: unsupported operand type(s) for -: 'Value' and 'Value'"
     ]
    }
   ],
   "source": [
    "a = Value(2.0)\n",
    "b = Value(3.0)\n",
    "b-a"
   ]
  },
  {
   "cell_type": "code",
   "execution_count": null,
   "id": "2354ee0e-3fad-43e1-ba9c-b9a1af863582",
   "metadata": {},
   "outputs": [],
   "source": []
  }
 ],
 "metadata": {
  "kernelspec": {
   "display_name": "Python 3 (ipykernel)",
   "language": "python",
   "name": "python3"
  },
  "language_info": {
   "codemirror_mode": {
    "name": "ipython",
    "version": 3
   },
   "file_extension": ".py",
   "mimetype": "text/x-python",
   "name": "python",
   "nbconvert_exporter": "python",
   "pygments_lexer": "ipython3",
   "version": "3.12.4"
  }
 },
 "nbformat": 4,
 "nbformat_minor": 5
}
