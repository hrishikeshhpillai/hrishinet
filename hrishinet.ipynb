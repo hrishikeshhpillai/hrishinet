{
 "cells": [
  {
   "cell_type": "code",
   "execution_count": 32,
   "id": "31468596-5c88-463e-8eaf-808a52e21ecb",
   "metadata": {},
   "outputs": [],
   "source": [
    "class Value():\n",
    "    def __init__(self, data, _childern = (), _op = \"\" ):\n",
    "        self.data = data\n",
    "        self._prev = set(_children)\n",
    "        self.op = _op\n",
    "        \n",
    "    def __repr__(self):        \n",
    "        return f\"Value(data = {self.data})\"\n",
    "        \n",
    "    def __add__(self, other):\n",
    "        out = Value(self.data + other.data, (self, other), \"+\")\n",
    "        return out\n",
    "        \n",
    "    def __mul___(self, other):\n",
    "        out = Value(self.data * other.data, (self, other), \"*\")\n",
    "        return out\n"
   ]
  },
  {
   "cell_type": "code",
   "execution_count": null,
   "id": "146ccbb2-c685-439c-91b7-763c02872e84",
   "metadata": {},
   "outputs": [],
   "source": []
  }
 ],
 "metadata": {
  "kernelspec": {
   "display_name": "Python 3 (ipykernel)",
   "language": "python",
   "name": "python3"
  },
  "language_info": {
   "codemirror_mode": {
    "name": "ipython",
    "version": 3
   },
   "file_extension": ".py",
   "mimetype": "text/x-python",
   "name": "python",
   "nbconvert_exporter": "python",
   "pygments_lexer": "ipython3",
   "version": "3.12.4"
  }
 },
 "nbformat": 4,
 "nbformat_minor": 5
}
